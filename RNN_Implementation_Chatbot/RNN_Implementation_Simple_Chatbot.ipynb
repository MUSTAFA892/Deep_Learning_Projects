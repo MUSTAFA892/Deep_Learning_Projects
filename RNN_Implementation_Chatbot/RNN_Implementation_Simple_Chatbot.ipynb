{
  "nbformat": 4,
  "nbformat_minor": 0,
  "metadata": {
    "colab": {
      "provenance": []
    },
    "kernelspec": {
      "name": "python3",
      "display_name": "Python 3"
    },
    "language_info": {
      "name": "python"
    }
  },
  "cells": [
    {
      "cell_type": "markdown",
      "source": [
        "# Simple RNN Chatbot for Understanding Sequential Learning\n",
        "\n",
        "This notebook demonstrates how RNNs work by building a simple conversational chatbot.\n",
        "\n",
        "**Key Learning Objectives:**\n",
        "- Understanding RNN architecture and short-term memory\n",
        "- Processing sequential text data\n",
        "- Building a character-level/word-level generative model\n",
        "- Training on conversational datasets\n",
        "\n",
        "**Note:** RNNs have short-term memory limitations, so this chatbot will work best with simple, short conversations.\n"
      ],
      "metadata": {
        "id": "4Dv6v8PDBUX3"
      }
    },
    {
      "cell_type": "code",
      "execution_count": 12,
      "metadata": {
        "colab": {
          "base_uri": "https://localhost:8080/"
        },
        "id": "wYmBpW54BE2n",
        "outputId": "a7891109-89b9-42be-ba8c-953a1e0e4c45"
      },
      "outputs": [
        {
          "output_type": "stream",
          "name": "stdout",
          "text": [
            "Requirement already satisfied: tensorflow in /usr/local/lib/python3.12/dist-packages (2.19.0)\n",
            "Requirement already satisfied: numpy in /usr/local/lib/python3.12/dist-packages (2.0.2)\n",
            "Requirement already satisfied: pandas in /usr/local/lib/python3.12/dist-packages (2.2.2)\n",
            "Requirement already satisfied: matplotlib in /usr/local/lib/python3.12/dist-packages (3.10.0)\n",
            "Requirement already satisfied: scikit-learn in /usr/local/lib/python3.12/dist-packages (1.6.1)\n",
            "Requirement already satisfied: absl-py>=1.0.0 in /usr/local/lib/python3.12/dist-packages (from tensorflow) (1.4.0)\n",
            "Requirement already satisfied: astunparse>=1.6.0 in /usr/local/lib/python3.12/dist-packages (from tensorflow) (1.6.3)\n",
            "Requirement already satisfied: flatbuffers>=24.3.25 in /usr/local/lib/python3.12/dist-packages (from tensorflow) (25.9.23)\n",
            "Requirement already satisfied: gast!=0.5.0,!=0.5.1,!=0.5.2,>=0.2.1 in /usr/local/lib/python3.12/dist-packages (from tensorflow) (0.6.0)\n",
            "Requirement already satisfied: google-pasta>=0.1.1 in /usr/local/lib/python3.12/dist-packages (from tensorflow) (0.2.0)\n",
            "Requirement already satisfied: libclang>=13.0.0 in /usr/local/lib/python3.12/dist-packages (from tensorflow) (18.1.1)\n",
            "Requirement already satisfied: opt-einsum>=2.3.2 in /usr/local/lib/python3.12/dist-packages (from tensorflow) (3.4.0)\n",
            "Requirement already satisfied: packaging in /usr/local/lib/python3.12/dist-packages (from tensorflow) (25.0)\n",
            "Requirement already satisfied: protobuf!=4.21.0,!=4.21.1,!=4.21.2,!=4.21.3,!=4.21.4,!=4.21.5,<6.0.0dev,>=3.20.3 in /usr/local/lib/python3.12/dist-packages (from tensorflow) (5.29.5)\n",
            "Requirement already satisfied: requests<3,>=2.21.0 in /usr/local/lib/python3.12/dist-packages (from tensorflow) (2.32.4)\n",
            "Requirement already satisfied: setuptools in /usr/local/lib/python3.12/dist-packages (from tensorflow) (75.2.0)\n",
            "Requirement already satisfied: six>=1.12.0 in /usr/local/lib/python3.12/dist-packages (from tensorflow) (1.17.0)\n",
            "Requirement already satisfied: termcolor>=1.1.0 in /usr/local/lib/python3.12/dist-packages (from tensorflow) (3.2.0)\n",
            "Requirement already satisfied: typing-extensions>=3.6.6 in /usr/local/lib/python3.12/dist-packages (from tensorflow) (4.15.0)\n",
            "Requirement already satisfied: wrapt>=1.11.0 in /usr/local/lib/python3.12/dist-packages (from tensorflow) (2.0.0)\n",
            "Requirement already satisfied: grpcio<2.0,>=1.24.3 in /usr/local/lib/python3.12/dist-packages (from tensorflow) (1.76.0)\n",
            "Requirement already satisfied: tensorboard~=2.19.0 in /usr/local/lib/python3.12/dist-packages (from tensorflow) (2.19.0)\n",
            "Requirement already satisfied: keras>=3.5.0 in /usr/local/lib/python3.12/dist-packages (from tensorflow) (3.10.0)\n",
            "Requirement already satisfied: h5py>=3.11.0 in /usr/local/lib/python3.12/dist-packages (from tensorflow) (3.15.1)\n",
            "Requirement already satisfied: ml-dtypes<1.0.0,>=0.5.1 in /usr/local/lib/python3.12/dist-packages (from tensorflow) (0.5.3)\n",
            "Requirement already satisfied: python-dateutil>=2.8.2 in /usr/local/lib/python3.12/dist-packages (from pandas) (2.9.0.post0)\n",
            "Requirement already satisfied: pytz>=2020.1 in /usr/local/lib/python3.12/dist-packages (from pandas) (2025.2)\n",
            "Requirement already satisfied: tzdata>=2022.7 in /usr/local/lib/python3.12/dist-packages (from pandas) (2025.2)\n",
            "Requirement already satisfied: contourpy>=1.0.1 in /usr/local/lib/python3.12/dist-packages (from matplotlib) (1.3.3)\n",
            "Requirement already satisfied: cycler>=0.10 in /usr/local/lib/python3.12/dist-packages (from matplotlib) (0.12.1)\n",
            "Requirement already satisfied: fonttools>=4.22.0 in /usr/local/lib/python3.12/dist-packages (from matplotlib) (4.60.1)\n",
            "Requirement already satisfied: kiwisolver>=1.3.1 in /usr/local/lib/python3.12/dist-packages (from matplotlib) (1.4.9)\n",
            "Requirement already satisfied: pillow>=8 in /usr/local/lib/python3.12/dist-packages (from matplotlib) (11.3.0)\n",
            "Requirement already satisfied: pyparsing>=2.3.1 in /usr/local/lib/python3.12/dist-packages (from matplotlib) (3.2.5)\n",
            "Requirement already satisfied: scipy>=1.6.0 in /usr/local/lib/python3.12/dist-packages (from scikit-learn) (1.16.3)\n",
            "Requirement already satisfied: joblib>=1.2.0 in /usr/local/lib/python3.12/dist-packages (from scikit-learn) (1.5.2)\n",
            "Requirement already satisfied: threadpoolctl>=3.1.0 in /usr/local/lib/python3.12/dist-packages (from scikit-learn) (3.6.0)\n",
            "Requirement already satisfied: wheel<1.0,>=0.23.0 in /usr/local/lib/python3.12/dist-packages (from astunparse>=1.6.0->tensorflow) (0.45.1)\n",
            "Requirement already satisfied: rich in /usr/local/lib/python3.12/dist-packages (from keras>=3.5.0->tensorflow) (13.9.4)\n",
            "Requirement already satisfied: namex in /usr/local/lib/python3.12/dist-packages (from keras>=3.5.0->tensorflow) (0.1.0)\n",
            "Requirement already satisfied: optree in /usr/local/lib/python3.12/dist-packages (from keras>=3.5.0->tensorflow) (0.17.0)\n",
            "Requirement already satisfied: charset_normalizer<4,>=2 in /usr/local/lib/python3.12/dist-packages (from requests<3,>=2.21.0->tensorflow) (3.4.4)\n",
            "Requirement already satisfied: idna<4,>=2.5 in /usr/local/lib/python3.12/dist-packages (from requests<3,>=2.21.0->tensorflow) (3.11)\n",
            "Requirement already satisfied: urllib3<3,>=1.21.1 in /usr/local/lib/python3.12/dist-packages (from requests<3,>=2.21.0->tensorflow) (2.5.0)\n",
            "Requirement already satisfied: certifi>=2017.4.17 in /usr/local/lib/python3.12/dist-packages (from requests<3,>=2.21.0->tensorflow) (2025.10.5)\n",
            "Requirement already satisfied: markdown>=2.6.8 in /usr/local/lib/python3.12/dist-packages (from tensorboard~=2.19.0->tensorflow) (3.9)\n",
            "Requirement already satisfied: tensorboard-data-server<0.8.0,>=0.7.0 in /usr/local/lib/python3.12/dist-packages (from tensorboard~=2.19.0->tensorflow) (0.7.2)\n",
            "Requirement already satisfied: werkzeug>=1.0.1 in /usr/local/lib/python3.12/dist-packages (from tensorboard~=2.19.0->tensorflow) (3.1.3)\n",
            "Requirement already satisfied: MarkupSafe>=2.1.1 in /usr/local/lib/python3.12/dist-packages (from werkzeug>=1.0.1->tensorboard~=2.19.0->tensorflow) (3.0.3)\n",
            "Requirement already satisfied: markdown-it-py>=2.2.0 in /usr/local/lib/python3.12/dist-packages (from rich->keras>=3.5.0->tensorflow) (4.0.0)\n",
            "Requirement already satisfied: pygments<3.0.0,>=2.13.0 in /usr/local/lib/python3.12/dist-packages (from rich->keras>=3.5.0->tensorflow) (2.19.2)\n",
            "Requirement already satisfied: mdurl~=0.1 in /usr/local/lib/python3.12/dist-packages (from markdown-it-py>=2.2.0->rich->keras>=3.5.0->tensorflow) (0.1.2)\n",
            "TensorFlow Version: 2.19.0\n"
          ]
        }
      ],
      "source": [
        "# Install required libraries\n",
        "!pip install tensorflow numpy pandas matplotlib scikit-learn\n",
        "\n",
        "# Import libraries\n",
        "import numpy as np\n",
        "import pandas as pd\n",
        "import tensorflow as tf\n",
        "from tensorflow.keras.models import Sequential\n",
        "from tensorflow.keras.layers import Dense, SimpleRNN, LSTM, Embedding\n",
        "from tensorflow.keras.preprocessing.text import Tokenizer\n",
        "from tensorflow.keras.preprocessing.sequence import pad_sequences\n",
        "from tensorflow.keras.utils import to_categorical\n",
        "import pickle\n",
        "import matplotlib.pyplot as plt\n",
        "import warnings\n",
        "warnings.filterwarnings('ignore')\n",
        "\n",
        "print(f\"TensorFlow Version: {tf.__version__}\")\n"
      ]
    },
    {
      "cell_type": "markdown",
      "source": [
        "## Dataset Options for RNN Chatbot\n",
        "\n",
        "We'll use one of these datasets:\n",
        "\n",
        "1. **Cornell Movie Dialogue Corpus** (Recommended)\n",
        "   - 220,579 conversational exchanges from movie scripts\n",
        "   - Link: https://convokit.cornell.edu/documentation/movie.html\n",
        "   - Hugging Face: https://huggingface.co/datasets/cornell-movie-dialog/cornell_movie_dialog\n",
        "\n",
        "2. **Human Conversation Training Data** (Kaggle)\n",
        "   - Aggregated conversational data\n",
        "   - Link: https://www.kaggle.com/datasets/projjal1/human-conversation-training-data\n",
        "\n",
        "3. **Custom Simple Dataset** (For quick testing)\n",
        "   - We'll create a small dataset manually for demonstration\n",
        "\n",
        "For this tutorial, we'll start with a simple custom dataset to understand RNN behavior, then show how to load Cornell dataset.\n"
      ],
      "metadata": {
        "id": "a92KiTZOBhrj"
      }
    },
    {
      "cell_type": "code",
      "source": [
        "# Simple conversational dataset for demonstration\n",
        "conversations = [\n",
        "    \"hi|hello\",\n",
        "    \"hello|hi there\",\n",
        "    \"how are you|i am good\",\n",
        "    \"how are you|i am fine thank you\",\n",
        "    \"what is your name|my name is chatbot\",\n",
        "    \"what is your name|i am a bot\",\n",
        "    \"bye|goodbye\",\n",
        "    \"goodbye|see you later\",\n",
        "    \"thank you|you are welcome\",\n",
        "    \"thanks|no problem\",\n",
        "    \"how old are you|i am a program\",\n",
        "    \"where are you from|i am from the cloud\",\n",
        "    \"what do you do|i chat with people\",\n",
        "    \"are you human|no i am a bot\",\n",
        "    \"good morning|good morning to you\",\n",
        "    \"good night|sweet dreams\",\n",
        "    \"help me|how can i help you\",\n",
        "    \"tell me a joke|why did the chicken cross the road\",\n",
        "    \"who are you|i am an ai assistant\",\n",
        "    \"nice to meet you|nice to meet you too\"\n",
        "]\n",
        "\n",
        "# Split into input-output pairs\n",
        "input_texts = []\n",
        "target_texts = []\n",
        "\n",
        "for conversation in conversations:\n",
        "    input_text, target_text = conversation.split('|')\n",
        "    input_texts.append(input_text.lower())\n",
        "    target_texts.append(target_text.lower())\n",
        "\n",
        "print(f\"Total conversations: {len(input_texts)}\")\n",
        "print(f\"Sample Input: {input_texts[0]}\")\n",
        "print(f\"Sample Target: {target_texts[0]}\")\n"
      ],
      "metadata": {
        "colab": {
          "base_uri": "https://localhost:8080/"
        },
        "id": "P66zuW-ABobl",
        "outputId": "8b91f94a-c3e0-435e-e3fd-630fe2038de4"
      },
      "execution_count": 13,
      "outputs": [
        {
          "output_type": "stream",
          "name": "stdout",
          "text": [
            "Total conversations: 20\n",
            "Sample Input: hi\n",
            "Sample Target: hello\n"
          ]
        }
      ]
    },
    {
      "cell_type": "markdown",
      "source": [
        "## Data Preprocessing\n",
        "\n",
        "For RNN to understand text, we need to:\n",
        "1. **Tokenization**: Convert words/characters to numerical indices\n",
        "2. **Padding**: Make all sequences the same length\n",
        "3. **Vocabulary Creation**: Build a dictionary of unique tokens\n",
        "\n"
      ],
      "metadata": {
        "id": "ma_qzh9RBvC9"
      }
    },
    {
      "cell_type": "code",
      "source": [
        "# Combine all texts for tokenizer\n",
        "all_texts = input_texts + target_texts\n",
        "\n",
        "# Create tokenizer\n",
        "tokenizer = Tokenizer(oov_token='<OOV>')\n",
        "tokenizer.fit_on_texts(all_texts)\n",
        "\n",
        "# Get vocabulary size\n",
        "vocab_size = len(tokenizer.word_index) + 1\n",
        "print(f\"Vocabulary Size: {vocab_size}\")\n",
        "print(f\"Sample word-index mapping: {list(tokenizer.word_index.items())[:10]}\")\n",
        "\n",
        "# Convert texts to sequences\n",
        "input_sequences = tokenizer.texts_to_sequences(input_texts)\n",
        "target_sequences = tokenizer.texts_to_sequences(target_texts)\n",
        "\n",
        "# Find maximum sequence length\n",
        "max_input_length = max([len(seq) for seq in input_sequences])\n",
        "max_target_length = max([len(seq) for seq in target_sequences])\n",
        "max_length = max(max_input_length, max_target_length)\n",
        "\n",
        "print(f\"Max Sequence Length: {max_length}\")\n",
        "\n",
        "# Pad sequences\n",
        "input_sequences_padded = pad_sequences(input_sequences, maxlen=max_length, padding='post')\n",
        "target_sequences_padded = pad_sequences(target_sequences, maxlen=max_length, padding='post')\n",
        "\n",
        "print(f\"Input Shape: {input_sequences_padded.shape}\")\n",
        "print(f\"Target Shape: {target_sequences_padded.shape}\")\n"
      ],
      "metadata": {
        "colab": {
          "base_uri": "https://localhost:8080/"
        },
        "id": "STm0IpEHB9T-",
        "outputId": "c73da9fe-bb8c-43bf-f855-3668c4ad07ec"
      },
      "execution_count": 14,
      "outputs": [
        {
          "output_type": "stream",
          "name": "stdout",
          "text": [
            "Vocabulary Size: 62\n",
            "Sample word-index mapping: [('<OOV>', 1), ('you', 2), ('i', 3), ('are', 4), ('am', 5), ('how', 6), ('good', 7), ('a', 8), ('what', 9), ('is', 10)]\n",
            "Max Sequence Length: 7\n",
            "Input Shape: (20, 7)\n",
            "Target Shape: (20, 7)\n"
          ]
        }
      ]
    },
    {
      "cell_type": "markdown",
      "source": [
        "## Building Simple RNN Architecture\n",
        "\n",
        "**Model Components:**\n",
        "- **Embedding Layer**: Converts word indices to dense vectors\n",
        "- **SimpleRNN/LSTM Layer**: Processes sequential information with memory\n",
        "- **Dense Layer**: Output layer for prediction\n",
        "\n",
        "We'll use LSTM instead of SimpleRNN for better performance (LSTM handles vanishing gradient better).\n"
      ],
      "metadata": {
        "id": "8-fzHlm-CH_J"
      }
    },
    {
      "cell_type": "code",
      "source": [
        "# Defining the parameters\n",
        "embedding_dim = 64\n",
        "rnn_units = 128\n",
        "max_length = 20  # Adjust based on your data\n",
        "vocab_size = 100  # This should come from your tokenizer\n"
      ],
      "metadata": {
        "id": "PQ7gqb5odQQ4"
      },
      "execution_count": 15,
      "outputs": []
    },
    {
      "cell_type": "code",
      "source": [
        "from tensorflow.keras.layers import SimpleRNN\n",
        "\n",
        "# Model with Basic RNN (not LSTM)\n",
        "model = Sequential([\n",
        "    Embedding(input_dim=vocab_size,\n",
        "              output_dim=embedding_dim,\n",
        "              input_length=max_length,\n",
        "              name='embedding_layer'),\n",
        "\n",
        "    SimpleRNN(rnn_units,  # <-- This is basic RNN\n",
        "              return_sequences=True,\n",
        "              name='simple_rnn_layer'),\n",
        "\n",
        "    Dense(vocab_size,\n",
        "          activation='softmax',\n",
        "          name='output_layer')\n",
        "])\n",
        "model.compile(\n",
        "    optimizer='adam',\n",
        "    loss='sparse_categorical_crossentropy',\n",
        "    metrics=['accuracy']\n",
        ")\n"
      ],
      "metadata": {
        "id": "SSWPwd89Eabd"
      },
      "execution_count": 16,
      "outputs": []
    },
    {
      "cell_type": "code",
      "source": [
        "\"\"\"# Model parameters\n",
        "embedding_dim = 64\n",
        "rnn_units = 128\n",
        "\n",
        "# Build the model with LSTM\n",
        "model = Sequential([\n",
        "    Embedding(input_dim=vocab_size,\n",
        "              output_dim=embedding_dim,\n",
        "              input_length=max_length,\n",
        "              name='embedding_layer'),\n",
        "\n",
        "    LSTM(rnn_units,\n",
        "         return_sequences=True,\n",
        "         name='lstm_layer'),\n",
        "\n",
        "    Dense(vocab_size,\n",
        "          activation='softmax',\n",
        "          name='output_layer')\n",
        "])\n",
        "\n",
        "# Compile model\n",
        "model.compile(\n",
        "    optimizer='adam',\n",
        "    loss='sparse_categorical_crossentropy',\n",
        "    metrics=['accuracy']\n",
        ")\n",
        "\n",
        "# Model summary\n",
        "model.summary()\n",
        "\"\"\""
      ],
      "metadata": {
        "colab": {
          "base_uri": "https://localhost:8080/",
          "height": 91
        },
        "id": "wUXoCDVLCJYH",
        "outputId": "55e62b5a-87cc-459b-957a-9a44ac0a2014"
      },
      "execution_count": 17,
      "outputs": [
        {
          "output_type": "execute_result",
          "data": {
            "text/plain": [
              "\"# Model parameters\\nembedding_dim = 64\\nrnn_units = 128\\n\\n# Build the model with LSTM\\nmodel = Sequential([\\n    Embedding(input_dim=vocab_size, \\n              output_dim=embedding_dim, \\n              input_length=max_length,\\n              name='embedding_layer'),\\n    \\n    LSTM(rnn_units, \\n         return_sequences=True,\\n         name='lstm_layer'),\\n    \\n    Dense(vocab_size, \\n          activation='softmax',\\n          name='output_layer')\\n])\\n\\n# Compile model\\nmodel.compile(\\n    optimizer='adam',\\n    loss='sparse_categorical_crossentropy',\\n    metrics=['accuracy']\\n)\\n\\n# Model summary\\nmodel.summary()\\n\""
            ],
            "application/vnd.google.colaboratory.intrinsic+json": {
              "type": "string"
            }
          },
          "metadata": {},
          "execution_count": 17
        }
      ]
    },
    {
      "cell_type": "markdown",
      "source": [
        "## Training the Model\n",
        "\n",
        "The RNN will learn to map input sequences to target sequences by:\n",
        "- Processing input word by word\n",
        "- Maintaining hidden state (short-term memory)\n",
        "- Predicting the next word in the sequence\n"
      ],
      "metadata": {
        "id": "uFl_To20CR--"
      }
    },
    {
      "cell_type": "code",
      "source": [
        "# Prepare target data (shift by one for next-word prediction)\n",
        "# For simplicity, we'll train input->target mapping\n",
        "X_train = input_sequences_padded\n",
        "y_train = target_sequences_padded.reshape(target_sequences_padded.shape[0],\n",
        "                                          target_sequences_padded.shape[1], 1)\n",
        "\n",
        "# Train the model\n",
        "history = model.fit(\n",
        "    X_train,\n",
        "    y_train,\n",
        "    batch_size=4,\n",
        "    epochs=100,\n",
        "    validation_split=0.2,\n",
        "    verbose=1\n",
        ")\n",
        "\n",
        "# Plot training history\n",
        "plt.figure(figsize=(12, 4))\n",
        "\n",
        "plt.subplot(1, 2, 1)\n",
        "plt.plot(history.history['loss'], label='Training Loss')\n",
        "plt.plot(history.history['val_loss'], label='Validation Loss')\n",
        "plt.title('Model Loss')\n",
        "plt.xlabel('Epoch')\n",
        "plt.ylabel('Loss')\n",
        "plt.legend()\n",
        "\n",
        "plt.subplot(1, 2, 2)\n",
        "plt.plot(history.history['accuracy'], label='Training Accuracy')\n",
        "plt.plot(history.history['val_accuracy'], label='Validation Accuracy')\n",
        "plt.title('Model Accuracy')\n",
        "plt.xlabel('Epoch')\n",
        "plt.ylabel('Accuracy')\n",
        "plt.legend()\n",
        "\n",
        "plt.tight_layout()\n",
        "plt.show()\n"
      ],
      "metadata": {
        "colab": {
          "base_uri": "https://localhost:8080/",
          "height": 1000
        },
        "id": "1gVUJybJChKq",
        "outputId": "c5c741a8-38b8-4fdd-f050-954b36bc6b60"
      },
      "execution_count": 18,
      "outputs": [
        {
          "output_type": "stream",
          "name": "stdout",
          "text": [
            "Epoch 1/100\n",
            "\u001b[1m4/4\u001b[0m \u001b[32m━━━━━━━━━━━━━━━━━━━━\u001b[0m\u001b[37m\u001b[0m \u001b[1m3s\u001b[0m 222ms/step - accuracy: 0.2250 - loss: 4.5159 - val_accuracy: 0.2500 - val_loss: 4.4650\n",
            "Epoch 2/100\n",
            "\u001b[1m4/4\u001b[0m \u001b[32m━━━━━━━━━━━━━━━━━━━━\u001b[0m\u001b[37m\u001b[0m \u001b[1m1s\u001b[0m 70ms/step - accuracy: 0.5905 - loss: 4.1246 - val_accuracy: 0.2500 - val_loss: 4.1815\n",
            "Epoch 3/100\n",
            "\u001b[1m4/4\u001b[0m \u001b[32m━━━━━━━━━━━━━━━━━━━━\u001b[0m\u001b[37m\u001b[0m \u001b[1m0s\u001b[0m 73ms/step - accuracy: 0.5429 - loss: 3.3506 - val_accuracy: 0.2500 - val_loss: 3.8407\n",
            "Epoch 4/100\n",
            "\u001b[1m4/4\u001b[0m \u001b[32m━━━━━━━━━━━━━━━━━━━━\u001b[0m\u001b[37m\u001b[0m \u001b[1m0s\u001b[0m 43ms/step - accuracy: 0.5107 - loss: 2.6367 - val_accuracy: 0.2143 - val_loss: 4.0597\n",
            "Epoch 5/100\n",
            "\u001b[1m4/4\u001b[0m \u001b[32m━━━━━━━━━━━━━━━━━━━━\u001b[0m\u001b[37m\u001b[0m \u001b[1m0s\u001b[0m 75ms/step - accuracy: 0.5619 - loss: 2.1943 - val_accuracy: 0.2143 - val_loss: 4.5114\n",
            "Epoch 6/100\n",
            "\u001b[1m4/4\u001b[0m \u001b[32m━━━━━━━━━━━━━━━━━━━━\u001b[0m\u001b[37m\u001b[0m \u001b[1m0s\u001b[0m 95ms/step - accuracy: 0.5631 - loss: 2.1898 - val_accuracy: 0.2143 - val_loss: 4.7792\n",
            "Epoch 7/100\n",
            "\u001b[1m4/4\u001b[0m \u001b[32m━━━━━━━━━━━━━━━━━━━━\u001b[0m\u001b[37m\u001b[0m \u001b[1m0s\u001b[0m 68ms/step - accuracy: 0.5083 - loss: 2.4295 - val_accuracy: 0.2143 - val_loss: 4.7929\n",
            "Epoch 8/100\n",
            "\u001b[1m4/4\u001b[0m \u001b[32m━━━━━━━━━━━━━━━━━━━━\u001b[0m\u001b[37m\u001b[0m \u001b[1m0s\u001b[0m 53ms/step - accuracy: 0.5310 - loss: 2.2319 - val_accuracy: 0.2143 - val_loss: 4.6920\n",
            "Epoch 9/100\n",
            "\u001b[1m4/4\u001b[0m \u001b[32m━━━━━━━━━━━━━━━━━━━━\u001b[0m\u001b[37m\u001b[0m \u001b[1m0s\u001b[0m 67ms/step - accuracy: 0.5857 - loss: 2.0408 - val_accuracy: 0.2143 - val_loss: 4.5654\n",
            "Epoch 10/100\n",
            "\u001b[1m4/4\u001b[0m \u001b[32m━━━━━━━━━━━━━━━━━━━━\u001b[0m\u001b[37m\u001b[0m \u001b[1m0s\u001b[0m 69ms/step - accuracy: 0.5679 - loss: 2.1548 - val_accuracy: 0.2143 - val_loss: 4.4801\n",
            "Epoch 11/100\n",
            "\u001b[1m4/4\u001b[0m \u001b[32m━━━━━━━━━━━━━━━━━━━━\u001b[0m\u001b[37m\u001b[0m \u001b[1m0s\u001b[0m 78ms/step - accuracy: 0.6524 - loss: 1.9388 - val_accuracy: 0.2143 - val_loss: 4.5044\n",
            "Epoch 12/100\n",
            "\u001b[1m4/4\u001b[0m \u001b[32m━━━━━━━━━━━━━━━━━━━━\u001b[0m\u001b[37m\u001b[0m \u001b[1m0s\u001b[0m 47ms/step - accuracy: 0.6048 - loss: 2.0602 - val_accuracy: 0.2143 - val_loss: 4.5905\n",
            "Epoch 13/100\n",
            "\u001b[1m4/4\u001b[0m \u001b[32m━━━━━━━━━━━━━━━━━━━━\u001b[0m\u001b[37m\u001b[0m \u001b[1m0s\u001b[0m 98ms/step - accuracy: 0.6643 - loss: 1.8516 - val_accuracy: 0.2143 - val_loss: 4.7095\n",
            "Epoch 14/100\n",
            "\u001b[1m4/4\u001b[0m \u001b[32m━━━━━━━━━━━━━━━━━━━━\u001b[0m\u001b[37m\u001b[0m \u001b[1m0s\u001b[0m 52ms/step - accuracy: 0.6440 - loss: 1.8972 - val_accuracy: 0.2143 - val_loss: 4.7950\n",
            "Epoch 15/100\n",
            "\u001b[1m4/4\u001b[0m \u001b[32m━━━━━━━━━━━━━━━━━━━━\u001b[0m\u001b[37m\u001b[0m \u001b[1m0s\u001b[0m 87ms/step - accuracy: 0.6476 - loss: 1.8116 - val_accuracy: 0.2500 - val_loss: 4.8257\n",
            "Epoch 16/100\n",
            "\u001b[1m4/4\u001b[0m \u001b[32m━━━━━━━━━━━━━━━━━━━━\u001b[0m\u001b[37m\u001b[0m \u001b[1m0s\u001b[0m 45ms/step - accuracy: 0.6429 - loss: 1.7927 - val_accuracy: 0.2500 - val_loss: 4.8160\n",
            "Epoch 17/100\n",
            "\u001b[1m4/4\u001b[0m \u001b[32m━━━━━━━━━━━━━━━━━━━━\u001b[0m\u001b[37m\u001b[0m \u001b[1m1s\u001b[0m 132ms/step - accuracy: 0.6369 - loss: 1.8474 - val_accuracy: 0.2500 - val_loss: 4.8036\n",
            "Epoch 18/100\n",
            "\u001b[1m4/4\u001b[0m \u001b[32m━━━━━━━━━━━━━━━━━━━━\u001b[0m\u001b[37m\u001b[0m \u001b[1m1s\u001b[0m 127ms/step - accuracy: 0.6500 - loss: 1.7323 - val_accuracy: 0.2500 - val_loss: 4.8722\n",
            "Epoch 19/100\n",
            "\u001b[1m4/4\u001b[0m \u001b[32m━━━━━━━━━━━━━━━━━━━━\u001b[0m\u001b[37m\u001b[0m \u001b[1m1s\u001b[0m 196ms/step - accuracy: 0.6845 - loss: 1.6582 - val_accuracy: 0.2500 - val_loss: 4.9941\n",
            "Epoch 20/100\n",
            "\u001b[1m4/4\u001b[0m \u001b[32m━━━━━━━━━━━━━━━━━━━━\u001b[0m\u001b[37m\u001b[0m \u001b[1m1s\u001b[0m 31ms/step - accuracy: 0.6536 - loss: 1.5717 - val_accuracy: 0.2500 - val_loss: 5.0662\n",
            "Epoch 21/100\n",
            "\u001b[1m4/4\u001b[0m \u001b[32m━━━━━━━━━━━━━━━━━━━━\u001b[0m\u001b[37m\u001b[0m \u001b[1m0s\u001b[0m 24ms/step - accuracy: 0.6655 - loss: 1.6031 - val_accuracy: 0.2500 - val_loss: 5.0836\n",
            "Epoch 22/100\n",
            "\u001b[1m4/4\u001b[0m \u001b[32m━━━━━━━━━━━━━━━━━━━━\u001b[0m\u001b[37m\u001b[0m \u001b[1m0s\u001b[0m 24ms/step - accuracy: 0.6774 - loss: 1.5170 - val_accuracy: 0.2500 - val_loss: 5.1222\n",
            "Epoch 23/100\n",
            "\u001b[1m4/4\u001b[0m \u001b[32m━━━━━━━━━━━━━━━━━━━━\u001b[0m\u001b[37m\u001b[0m \u001b[1m0s\u001b[0m 25ms/step - accuracy: 0.6857 - loss: 1.4908 - val_accuracy: 0.2500 - val_loss: 5.1771\n",
            "Epoch 24/100\n",
            "\u001b[1m4/4\u001b[0m \u001b[32m━━━━━━━━━━━━━━━━━━━━\u001b[0m\u001b[37m\u001b[0m \u001b[1m0s\u001b[0m 29ms/step - accuracy: 0.7012 - loss: 1.3839 - val_accuracy: 0.2500 - val_loss: 5.2365\n",
            "Epoch 25/100\n",
            "\u001b[1m4/4\u001b[0m \u001b[32m━━━━━━━━━━━━━━━━━━━━\u001b[0m\u001b[37m\u001b[0m \u001b[1m0s\u001b[0m 24ms/step - accuracy: 0.7024 - loss: 1.3194 - val_accuracy: 0.2500 - val_loss: 5.2827\n",
            "Epoch 26/100\n",
            "\u001b[1m4/4\u001b[0m \u001b[32m━━━━━━━━━━━━━━━━━━━━\u001b[0m\u001b[37m\u001b[0m \u001b[1m0s\u001b[0m 25ms/step - accuracy: 0.7012 - loss: 1.2898 - val_accuracy: 0.2500 - val_loss: 5.3157\n",
            "Epoch 27/100\n",
            "\u001b[1m4/4\u001b[0m \u001b[32m━━━━━━━━━━━━━━━━━━━━\u001b[0m\u001b[37m\u001b[0m \u001b[1m0s\u001b[0m 26ms/step - accuracy: 0.7143 - loss: 1.2322 - val_accuracy: 0.2500 - val_loss: 5.3453\n",
            "Epoch 28/100\n",
            "\u001b[1m4/4\u001b[0m \u001b[32m━━━━━━━━━━━━━━━━━━━━\u001b[0m\u001b[37m\u001b[0m \u001b[1m0s\u001b[0m 24ms/step - accuracy: 0.7179 - loss: 1.1344 - val_accuracy: 0.2500 - val_loss: 5.3854\n",
            "Epoch 29/100\n",
            "\u001b[1m4/4\u001b[0m \u001b[32m━━━━━━━━━━━━━━━━━━━━\u001b[0m\u001b[37m\u001b[0m \u001b[1m0s\u001b[0m 24ms/step - accuracy: 0.7357 - loss: 1.0915 - val_accuracy: 0.2500 - val_loss: 5.4283\n",
            "Epoch 30/100\n",
            "\u001b[1m4/4\u001b[0m \u001b[32m━━━━━━━━━━━━━━━━━━━━\u001b[0m\u001b[37m\u001b[0m \u001b[1m0s\u001b[0m 26ms/step - accuracy: 0.7012 - loss: 1.1187 - val_accuracy: 0.2857 - val_loss: 5.4379\n",
            "Epoch 31/100\n",
            "\u001b[1m4/4\u001b[0m \u001b[32m━━━━━━━━━━━━━━━━━━━━\u001b[0m\u001b[37m\u001b[0m \u001b[1m0s\u001b[0m 23ms/step - accuracy: 0.7667 - loss: 1.0264 - val_accuracy: 0.2857 - val_loss: 5.4911\n",
            "Epoch 32/100\n",
            "\u001b[1m4/4\u001b[0m \u001b[32m━━━━━━━━━━━━━━━━━━━━\u001b[0m\u001b[37m\u001b[0m \u001b[1m0s\u001b[0m 24ms/step - accuracy: 0.8155 - loss: 0.9532 - val_accuracy: 0.2857 - val_loss: 5.5688\n",
            "Epoch 33/100\n",
            "\u001b[1m4/4\u001b[0m \u001b[32m━━━━━━━━━━━━━━━━━━━━\u001b[0m\u001b[37m\u001b[0m \u001b[1m0s\u001b[0m 25ms/step - accuracy: 0.7690 - loss: 0.9940 - val_accuracy: 0.2857 - val_loss: 5.6099\n",
            "Epoch 34/100\n",
            "\u001b[1m4/4\u001b[0m \u001b[32m━━━━━━━━━━━━━━━━━━━━\u001b[0m\u001b[37m\u001b[0m \u001b[1m0s\u001b[0m 25ms/step - accuracy: 0.7571 - loss: 0.9106 - val_accuracy: 0.2857 - val_loss: 5.6021\n",
            "Epoch 35/100\n",
            "\u001b[1m4/4\u001b[0m \u001b[32m━━━━━━━━━━━━━━━━━━━━\u001b[0m\u001b[37m\u001b[0m \u001b[1m0s\u001b[0m 24ms/step - accuracy: 0.7798 - loss: 0.8941 - val_accuracy: 0.2857 - val_loss: 5.6348\n",
            "Epoch 36/100\n",
            "\u001b[1m4/4\u001b[0m \u001b[32m━━━━━━━━━━━━━━━━━━━━\u001b[0m\u001b[37m\u001b[0m \u001b[1m0s\u001b[0m 26ms/step - accuracy: 0.8167 - loss: 0.8737 - val_accuracy: 0.2857 - val_loss: 5.6591\n",
            "Epoch 37/100\n",
            "\u001b[1m4/4\u001b[0m \u001b[32m━━━━━━━━━━━━━━━━━━━━\u001b[0m\u001b[37m\u001b[0m \u001b[1m0s\u001b[0m 24ms/step - accuracy: 0.8119 - loss: 0.7675 - val_accuracy: 0.2857 - val_loss: 5.7067\n",
            "Epoch 38/100\n",
            "\u001b[1m4/4\u001b[0m \u001b[32m━━━━━━━━━━━━━━━━━━━━\u001b[0m\u001b[37m\u001b[0m \u001b[1m0s\u001b[0m 23ms/step - accuracy: 0.8012 - loss: 0.7832 - val_accuracy: 0.2857 - val_loss: 5.7824\n",
            "Epoch 39/100\n",
            "\u001b[1m4/4\u001b[0m \u001b[32m━━━━━━━━━━━━━━━━━━━━\u001b[0m\u001b[37m\u001b[0m \u001b[1m0s\u001b[0m 25ms/step - accuracy: 0.8690 - loss: 0.7055 - val_accuracy: 0.2857 - val_loss: 5.8135\n",
            "Epoch 40/100\n",
            "\u001b[1m4/4\u001b[0m \u001b[32m━━━━━━━━━━━━━━━━━━━━\u001b[0m\u001b[37m\u001b[0m \u001b[1m0s\u001b[0m 25ms/step - accuracy: 0.8393 - loss: 0.6933 - val_accuracy: 0.2857 - val_loss: 5.7816\n",
            "Epoch 41/100\n",
            "\u001b[1m4/4\u001b[0m \u001b[32m━━━━━━━━━━━━━━━━━━━━\u001b[0m\u001b[37m\u001b[0m \u001b[1m0s\u001b[0m 24ms/step - accuracy: 0.8500 - loss: 0.6725 - val_accuracy: 0.2857 - val_loss: 5.8205\n",
            "Epoch 42/100\n",
            "\u001b[1m4/4\u001b[0m \u001b[32m━━━━━━━━━━━━━━━━━━━━\u001b[0m\u001b[37m\u001b[0m \u001b[1m0s\u001b[0m 25ms/step - accuracy: 0.8833 - loss: 0.6411 - val_accuracy: 0.2857 - val_loss: 5.8803\n",
            "Epoch 43/100\n",
            "\u001b[1m4/4\u001b[0m \u001b[32m━━━━━━━━━━━━━━━━━━━━\u001b[0m\u001b[37m\u001b[0m \u001b[1m0s\u001b[0m 30ms/step - accuracy: 0.8869 - loss: 0.6168 - val_accuracy: 0.2857 - val_loss: 5.9373\n",
            "Epoch 44/100\n",
            "\u001b[1m4/4\u001b[0m \u001b[32m━━━━━━━━━━━━━━━━━━━━\u001b[0m\u001b[37m\u001b[0m \u001b[1m0s\u001b[0m 25ms/step - accuracy: 0.8369 - loss: 0.6482 - val_accuracy: 0.2857 - val_loss: 5.9363\n",
            "Epoch 45/100\n",
            "\u001b[1m4/4\u001b[0m \u001b[32m━━━━━━━━━━━━━━━━━━━━\u001b[0m\u001b[37m\u001b[0m \u001b[1m0s\u001b[0m 23ms/step - accuracy: 0.8643 - loss: 0.5492 - val_accuracy: 0.2500 - val_loss: 5.9615\n",
            "Epoch 46/100\n",
            "\u001b[1m4/4\u001b[0m \u001b[32m━━━━━━━━━━━━━━━━━━━━\u001b[0m\u001b[37m\u001b[0m \u001b[1m0s\u001b[0m 25ms/step - accuracy: 0.8821 - loss: 0.5446 - val_accuracy: 0.2500 - val_loss: 5.9782\n",
            "Epoch 47/100\n",
            "\u001b[1m4/4\u001b[0m \u001b[32m━━━━━━━━━━━━━━━━━━━━\u001b[0m\u001b[37m\u001b[0m \u001b[1m0s\u001b[0m 24ms/step - accuracy: 0.8917 - loss: 0.5168 - val_accuracy: 0.2500 - val_loss: 6.0450\n",
            "Epoch 48/100\n",
            "\u001b[1m4/4\u001b[0m \u001b[32m━━━━━━━━━━━━━━━━━━━━\u001b[0m\u001b[37m\u001b[0m \u001b[1m0s\u001b[0m 26ms/step - accuracy: 0.9298 - loss: 0.4862 - val_accuracy: 0.2500 - val_loss: 6.0894\n",
            "Epoch 49/100\n",
            "\u001b[1m4/4\u001b[0m \u001b[32m━━━━━━━━━━━━━━━━━━━━\u001b[0m\u001b[37m\u001b[0m \u001b[1m0s\u001b[0m 25ms/step - accuracy: 0.9024 - loss: 0.4298 - val_accuracy: 0.2500 - val_loss: 6.0844\n",
            "Epoch 50/100\n",
            "\u001b[1m4/4\u001b[0m \u001b[32m━━━━━━━━━━━━━━━━━━━━\u001b[0m\u001b[37m\u001b[0m \u001b[1m0s\u001b[0m 38ms/step - accuracy: 0.9071 - loss: 0.4484 - val_accuracy: 0.2500 - val_loss: 6.0954\n",
            "Epoch 51/100\n",
            "\u001b[1m4/4\u001b[0m \u001b[32m━━━━━━━━━━━━━━━━━━━━\u001b[0m\u001b[37m\u001b[0m \u001b[1m0s\u001b[0m 28ms/step - accuracy: 0.9000 - loss: 0.4570 - val_accuracy: 0.2500 - val_loss: 6.1641\n",
            "Epoch 52/100\n",
            "\u001b[1m4/4\u001b[0m \u001b[32m━━━━━━━━━━━━━━━━━━━━\u001b[0m\u001b[37m\u001b[0m \u001b[1m0s\u001b[0m 28ms/step - accuracy: 0.9024 - loss: 0.4281 - val_accuracy: 0.2500 - val_loss: 6.1983\n",
            "Epoch 53/100\n",
            "\u001b[1m4/4\u001b[0m \u001b[32m━━━━━━━━━━━━━━━━━━━━\u001b[0m\u001b[37m\u001b[0m \u001b[1m0s\u001b[0m 25ms/step - accuracy: 0.8988 - loss: 0.4331 - val_accuracy: 0.2500 - val_loss: 6.2211\n",
            "Epoch 54/100\n",
            "\u001b[1m4/4\u001b[0m \u001b[32m━━━━━━━━━━━━━━━━━━━━\u001b[0m\u001b[37m\u001b[0m \u001b[1m0s\u001b[0m 23ms/step - accuracy: 0.9250 - loss: 0.3618 - val_accuracy: 0.2500 - val_loss: 6.2133\n",
            "Epoch 55/100\n",
            "\u001b[1m4/4\u001b[0m \u001b[32m━━━━━━━━━━━━━━━━━━━━\u001b[0m\u001b[37m\u001b[0m \u001b[1m0s\u001b[0m 24ms/step - accuracy: 0.8845 - loss: 0.3848 - val_accuracy: 0.2500 - val_loss: 6.2372\n",
            "Epoch 56/100\n",
            "\u001b[1m4/4\u001b[0m \u001b[32m━━━━━━━━━━━━━━━━━━━━\u001b[0m\u001b[37m\u001b[0m \u001b[1m0s\u001b[0m 25ms/step - accuracy: 0.9226 - loss: 0.3661 - val_accuracy: 0.2500 - val_loss: 6.2870\n",
            "Epoch 57/100\n",
            "\u001b[1m4/4\u001b[0m \u001b[32m━━━━━━━━━━━━━━━━━━━━\u001b[0m\u001b[37m\u001b[0m \u001b[1m0s\u001b[0m 24ms/step - accuracy: 0.9262 - loss: 0.3637 - val_accuracy: 0.2500 - val_loss: 6.3045\n",
            "Epoch 58/100\n",
            "\u001b[1m4/4\u001b[0m \u001b[32m━━━━━━━━━━━━━━━━━━━━\u001b[0m\u001b[37m\u001b[0m \u001b[1m0s\u001b[0m 25ms/step - accuracy: 0.9000 - loss: 0.3371 - val_accuracy: 0.2500 - val_loss: 6.3428\n",
            "Epoch 59/100\n",
            "\u001b[1m4/4\u001b[0m \u001b[32m━━━━━━━━━━━━━━━━━━━━\u001b[0m\u001b[37m\u001b[0m \u001b[1m0s\u001b[0m 25ms/step - accuracy: 0.9012 - loss: 0.3368 - val_accuracy: 0.2500 - val_loss: 6.4092\n",
            "Epoch 60/100\n",
            "\u001b[1m4/4\u001b[0m \u001b[32m━━━━━━━━━━━━━━━━━━━━\u001b[0m\u001b[37m\u001b[0m \u001b[1m0s\u001b[0m 26ms/step - accuracy: 0.9310 - loss: 0.2953 - val_accuracy: 0.2500 - val_loss: 6.4114\n",
            "Epoch 61/100\n",
            "\u001b[1m4/4\u001b[0m \u001b[32m━━━━━━━━━━━━━━━━━━━━\u001b[0m\u001b[37m\u001b[0m \u001b[1m0s\u001b[0m 31ms/step - accuracy: 0.9000 - loss: 0.2732 - val_accuracy: 0.2500 - val_loss: 6.3955\n",
            "Epoch 62/100\n",
            "\u001b[1m4/4\u001b[0m \u001b[32m━━━━━━━━━━━━━━━━━━━━\u001b[0m\u001b[37m\u001b[0m \u001b[1m0s\u001b[0m 23ms/step - accuracy: 0.9357 - loss: 0.2777 - val_accuracy: 0.2500 - val_loss: 6.3969\n",
            "Epoch 63/100\n",
            "\u001b[1m4/4\u001b[0m \u001b[32m━━━━━━━━━━━━━━━━━━━━\u001b[0m\u001b[37m\u001b[0m \u001b[1m0s\u001b[0m 25ms/step - accuracy: 0.8964 - loss: 0.3083 - val_accuracy: 0.2500 - val_loss: 6.4427\n",
            "Epoch 64/100\n",
            "\u001b[1m4/4\u001b[0m \u001b[32m━━━━━━━━━━━━━━━━━━━━\u001b[0m\u001b[37m\u001b[0m \u001b[1m0s\u001b[0m 23ms/step - accuracy: 0.9595 - loss: 0.2677 - val_accuracy: 0.2500 - val_loss: 6.4888\n",
            "Epoch 65/100\n",
            "\u001b[1m4/4\u001b[0m \u001b[32m━━━━━━━━━━━━━━━━━━━━\u001b[0m\u001b[37m\u001b[0m \u001b[1m0s\u001b[0m 26ms/step - accuracy: 0.9167 - loss: 0.2492 - val_accuracy: 0.2500 - val_loss: 6.5371\n",
            "Epoch 66/100\n",
            "\u001b[1m4/4\u001b[0m \u001b[32m━━━━━━━━━━━━━━━━━━━━\u001b[0m\u001b[37m\u001b[0m \u001b[1m0s\u001b[0m 27ms/step - accuracy: 0.9000 - loss: 0.2423 - val_accuracy: 0.2500 - val_loss: 6.5463\n",
            "Epoch 67/100\n",
            "\u001b[1m4/4\u001b[0m \u001b[32m━━━━━━━━━━━━━━━━━━━━\u001b[0m\u001b[37m\u001b[0m \u001b[1m0s\u001b[0m 24ms/step - accuracy: 0.9393 - loss: 0.2260 - val_accuracy: 0.2500 - val_loss: 6.5607\n",
            "Epoch 68/100\n",
            "\u001b[1m4/4\u001b[0m \u001b[32m━━━━━━━━━━━━━━━━━━━━\u001b[0m\u001b[37m\u001b[0m \u001b[1m0s\u001b[0m 26ms/step - accuracy: 0.9298 - loss: 0.2235 - val_accuracy: 0.2500 - val_loss: 6.5590\n",
            "Epoch 69/100\n",
            "\u001b[1m4/4\u001b[0m \u001b[32m━━━━━━━━━━━━━━━━━━━━\u001b[0m\u001b[37m\u001b[0m \u001b[1m0s\u001b[0m 26ms/step - accuracy: 0.9595 - loss: 0.1949 - val_accuracy: 0.2500 - val_loss: 6.5794\n",
            "Epoch 70/100\n",
            "\u001b[1m4/4\u001b[0m \u001b[32m━━━━━━━━━━━━━━━━━━━━\u001b[0m\u001b[37m\u001b[0m \u001b[1m0s\u001b[0m 38ms/step - accuracy: 0.8917 - loss: 0.2267 - val_accuracy: 0.2500 - val_loss: 6.5563\n",
            "Epoch 71/100\n",
            "\u001b[1m4/4\u001b[0m \u001b[32m━━━━━━━━━━━━━━━━━━━━\u001b[0m\u001b[37m\u001b[0m \u001b[1m0s\u001b[0m 25ms/step - accuracy: 0.9036 - loss: 0.2200 - val_accuracy: 0.2500 - val_loss: 6.6028\n",
            "Epoch 72/100\n",
            "\u001b[1m4/4\u001b[0m \u001b[32m━━━━━━━━━━━━━━━━━━━━\u001b[0m\u001b[37m\u001b[0m \u001b[1m0s\u001b[0m 26ms/step - accuracy: 0.9512 - loss: 0.1965 - val_accuracy: 0.2500 - val_loss: 6.6264\n",
            "Epoch 73/100\n",
            "\u001b[1m4/4\u001b[0m \u001b[32m━━━━━━━━━━━━━━━━━━━━\u001b[0m\u001b[37m\u001b[0m \u001b[1m0s\u001b[0m 25ms/step - accuracy: 0.9405 - loss: 0.1959 - val_accuracy: 0.2500 - val_loss: 6.6598\n",
            "Epoch 74/100\n",
            "\u001b[1m4/4\u001b[0m \u001b[32m━━━━━━━━━━━━━━━━━━━━\u001b[0m\u001b[37m\u001b[0m \u001b[1m0s\u001b[0m 25ms/step - accuracy: 0.9476 - loss: 0.1784 - val_accuracy: 0.2500 - val_loss: 6.6734\n",
            "Epoch 75/100\n",
            "\u001b[1m4/4\u001b[0m \u001b[32m━━━━━━━━━━━━━━━━━━━━\u001b[0m\u001b[37m\u001b[0m \u001b[1m0s\u001b[0m 27ms/step - accuracy: 0.9595 - loss: 0.1448 - val_accuracy: 0.2500 - val_loss: 6.6739\n",
            "Epoch 76/100\n",
            "\u001b[1m4/4\u001b[0m \u001b[32m━━━━━━━━━━━━━━━━━━━━\u001b[0m\u001b[37m\u001b[0m \u001b[1m0s\u001b[0m 23ms/step - accuracy: 0.9476 - loss: 0.1806 - val_accuracy: 0.2500 - val_loss: 6.6926\n",
            "Epoch 77/100\n",
            "\u001b[1m4/4\u001b[0m \u001b[32m━━━━━━━━━━━━━━━━━━━━\u001b[0m\u001b[37m\u001b[0m \u001b[1m0s\u001b[0m 24ms/step - accuracy: 0.8845 - loss: 0.2340 - val_accuracy: 0.2500 - val_loss: 6.7108\n",
            "Epoch 78/100\n",
            "\u001b[1m4/4\u001b[0m \u001b[32m━━━━━━━━━━━━━━━━━━━━\u001b[0m\u001b[37m\u001b[0m \u001b[1m0s\u001b[0m 29ms/step - accuracy: 0.9488 - loss: 0.1808 - val_accuracy: 0.2500 - val_loss: 6.7420\n",
            "Epoch 79/100\n",
            "\u001b[1m4/4\u001b[0m \u001b[32m━━━━━━━━━━━━━━━━━━━━\u001b[0m\u001b[37m\u001b[0m \u001b[1m0s\u001b[0m 50ms/step - accuracy: 0.8976 - loss: 0.1828 - val_accuracy: 0.2500 - val_loss: 6.7085\n",
            "Epoch 80/100\n",
            "\u001b[1m4/4\u001b[0m \u001b[32m━━━━━━━━━━━━━━━━━━━━\u001b[0m\u001b[37m\u001b[0m \u001b[1m0s\u001b[0m 38ms/step - accuracy: 0.9155 - loss: 0.1827 - val_accuracy: 0.2500 - val_loss: 6.7231\n",
            "Epoch 81/100\n",
            "\u001b[1m4/4\u001b[0m \u001b[32m━━━━━━━━━━━━━━━━━━━━\u001b[0m\u001b[37m\u001b[0m \u001b[1m0s\u001b[0m 37ms/step - accuracy: 0.9524 - loss: 0.1632 - val_accuracy: 0.2500 - val_loss: 6.7420\n",
            "Epoch 82/100\n",
            "\u001b[1m4/4\u001b[0m \u001b[32m━━━━━━━━━━━━━━━━━━━━\u001b[0m\u001b[37m\u001b[0m \u001b[1m0s\u001b[0m 41ms/step - accuracy: 0.9655 - loss: 0.1452 - val_accuracy: 0.2500 - val_loss: 6.7678\n",
            "Epoch 83/100\n",
            "\u001b[1m4/4\u001b[0m \u001b[32m━━━━━━━━━━━━━━━━━━━━\u001b[0m\u001b[37m\u001b[0m \u001b[1m0s\u001b[0m 27ms/step - accuracy: 0.9298 - loss: 0.1621 - val_accuracy: 0.2500 - val_loss: 6.8217\n",
            "Epoch 84/100\n",
            "\u001b[1m4/4\u001b[0m \u001b[32m━━━━━━━━━━━━━━━━━━━━\u001b[0m\u001b[37m\u001b[0m \u001b[1m0s\u001b[0m 24ms/step - accuracy: 0.9512 - loss: 0.1463 - val_accuracy: 0.2500 - val_loss: 6.8367\n",
            "Epoch 85/100\n",
            "\u001b[1m4/4\u001b[0m \u001b[32m━━━━━━━━━━━━━━━━━━━━\u001b[0m\u001b[37m\u001b[0m \u001b[1m0s\u001b[0m 29ms/step - accuracy: 0.9167 - loss: 0.1891 - val_accuracy: 0.2500 - val_loss: 6.8333\n",
            "Epoch 86/100\n",
            "\u001b[1m4/4\u001b[0m \u001b[32m━━━━━━━━━━━━━━━━━━━━\u001b[0m\u001b[37m\u001b[0m \u001b[1m0s\u001b[0m 25ms/step - accuracy: 0.8798 - loss: 0.1955 - val_accuracy: 0.2500 - val_loss: 6.8306\n",
            "Epoch 87/100\n",
            "\u001b[1m4/4\u001b[0m \u001b[32m━━━━━━━━━━━━━━━━━━━━\u001b[0m\u001b[37m\u001b[0m \u001b[1m0s\u001b[0m 23ms/step - accuracy: 0.9012 - loss: 0.1549 - val_accuracy: 0.2500 - val_loss: 6.8292\n",
            "Epoch 88/100\n",
            "\u001b[1m4/4\u001b[0m \u001b[32m━━━━━━━━━━━━━━━━━━━━\u001b[0m\u001b[37m\u001b[0m \u001b[1m0s\u001b[0m 25ms/step - accuracy: 0.9083 - loss: 0.1383 - val_accuracy: 0.2500 - val_loss: 6.8472\n",
            "Epoch 89/100\n",
            "\u001b[1m4/4\u001b[0m \u001b[32m━━━━━━━━━━━━━━━━━━━━\u001b[0m\u001b[37m\u001b[0m \u001b[1m0s\u001b[0m 23ms/step - accuracy: 0.9202 - loss: 0.1894 - val_accuracy: 0.2500 - val_loss: 6.8592\n",
            "Epoch 90/100\n",
            "\u001b[1m4/4\u001b[0m \u001b[32m━━━━━━━━━━━━━━━━━━━━\u001b[0m\u001b[37m\u001b[0m \u001b[1m0s\u001b[0m 24ms/step - accuracy: 0.9190 - loss: 0.1351 - val_accuracy: 0.2500 - val_loss: 6.8533\n",
            "Epoch 91/100\n",
            "\u001b[1m4/4\u001b[0m \u001b[32m━━━━━━━━━━━━━━━━━━━━\u001b[0m\u001b[37m\u001b[0m \u001b[1m0s\u001b[0m 26ms/step - accuracy: 0.9048 - loss: 0.1568 - val_accuracy: 0.2500 - val_loss: 6.8853\n",
            "Epoch 92/100\n",
            "\u001b[1m4/4\u001b[0m \u001b[32m━━━━━━━━━━━━━━━━━━━━\u001b[0m\u001b[37m\u001b[0m \u001b[1m0s\u001b[0m 23ms/step - accuracy: 0.8905 - loss: 0.1612 - val_accuracy: 0.2500 - val_loss: 6.8705\n",
            "Epoch 93/100\n",
            "\u001b[1m4/4\u001b[0m \u001b[32m━━━━━━━━━━━━━━━━━━━━\u001b[0m\u001b[37m\u001b[0m \u001b[1m0s\u001b[0m 25ms/step - accuracy: 0.9131 - loss: 0.1812 - val_accuracy: 0.2500 - val_loss: 6.8697\n",
            "Epoch 94/100\n",
            "\u001b[1m4/4\u001b[0m \u001b[32m━━━━━━━━━━━━━━━━━━━━\u001b[0m\u001b[37m\u001b[0m \u001b[1m0s\u001b[0m 30ms/step - accuracy: 0.9345 - loss: 0.1448 - val_accuracy: 0.2500 - val_loss: 6.9125\n",
            "Epoch 95/100\n",
            "\u001b[1m4/4\u001b[0m \u001b[32m━━━━━━━━━━━━━━━━━━━━\u001b[0m\u001b[37m\u001b[0m \u001b[1m0s\u001b[0m 27ms/step - accuracy: 0.9000 - loss: 0.1532 - val_accuracy: 0.2500 - val_loss: 6.9381\n",
            "Epoch 96/100\n",
            "\u001b[1m4/4\u001b[0m \u001b[32m━━━━━━━━━━━━━━━━━━━━\u001b[0m\u001b[37m\u001b[0m \u001b[1m0s\u001b[0m 27ms/step - accuracy: 0.9560 - loss: 0.1120 - val_accuracy: 0.2500 - val_loss: 6.9409\n",
            "Epoch 97/100\n",
            "\u001b[1m4/4\u001b[0m \u001b[32m━━━━━━━━━━━━━━━━━━━━\u001b[0m\u001b[37m\u001b[0m \u001b[1m0s\u001b[0m 24ms/step - accuracy: 0.9631 - loss: 0.1129 - val_accuracy: 0.2500 - val_loss: 6.9471\n",
            "Epoch 98/100\n",
            "\u001b[1m4/4\u001b[0m \u001b[32m━━━━━━━━━━━━━━━━━━━━\u001b[0m\u001b[37m\u001b[0m \u001b[1m0s\u001b[0m 25ms/step - accuracy: 0.9381 - loss: 0.1492 - val_accuracy: 0.2500 - val_loss: 6.9464\n",
            "Epoch 99/100\n",
            "\u001b[1m4/4\u001b[0m \u001b[32m━━━━━━━━━━━━━━━━━━━━\u001b[0m\u001b[37m\u001b[0m \u001b[1m0s\u001b[0m 25ms/step - accuracy: 0.9143 - loss: 0.1324 - val_accuracy: 0.2500 - val_loss: 6.9405\n",
            "Epoch 100/100\n",
            "\u001b[1m4/4\u001b[0m \u001b[32m━━━━━━━━━━━━━━━━━━━━\u001b[0m\u001b[37m\u001b[0m \u001b[1m0s\u001b[0m 26ms/step - accuracy: 0.9512 - loss: 0.1051 - val_accuracy: 0.2500 - val_loss: 6.9446\n"
          ]
        },
        {
          "output_type": "display_data",
          "data": {
            "text/plain": [
              "<Figure size 1200x400 with 2 Axes>"
            ],
            "image/png": "[encoded data removed]"
          },
          "metadata": {}
        }
      ]
    },
    {
      "cell_type": "code",
      "source": [
        "def generate_response(input_text, model, tokenizer, max_length):\n",
        "    \"\"\"\n",
        "    Generate chatbot response for given input text\n",
        "    \"\"\"\n",
        "    # Preprocess input\n",
        "    input_text = input_text.lower()\n",
        "    input_seq = tokenizer.texts_to_sequences([input_text])\n",
        "    input_padded = pad_sequences(input_seq, maxlen=max_length, padding='post')\n",
        "\n",
        "    # Predict\n",
        "    prediction = model.predict(input_padded, verbose=0)\n",
        "\n",
        "    # Get predicted word indices (take argmax for each position)\n",
        "    predicted_indices = np.argmax(prediction[0], axis=-1)\n",
        "\n",
        "    # Convert indices back to words\n",
        "    reverse_word_index = {v: k for k, v in tokenizer.word_index.items()}\n",
        "    response_words = [reverse_word_index.get(idx, '') for idx in predicted_indices if idx > 0]\n",
        "\n",
        "    response = ' '.join(response_words)\n",
        "    return response.strip()\n",
        "\n",
        "# Test the function\n",
        "test_inputs = [\"hi\", \"how are you\", \"what is your name\", \"bye\"]\n",
        "\n",
        "print(\"=\" * 50)\n",
        "print(\"CHATBOT RESPONSES\")\n",
        "print(\"=\" * 50)\n",
        "\n",
        "for test_input in test_inputs:\n",
        "    response = generate_response(test_input, model, tokenizer, max_length)\n",
        "    print(f\"You: {test_input}\")\n",
        "    print(f\"Bot: {response}\")\n",
        "    print(\"-\" * 50)\n"
      ],
      "metadata": {
        "colab": {
          "base_uri": "https://localhost:8080/"
        },
        "id": "ZQs3vQCWCotb",
        "outputId": "ee1c55d4-7da4-4b36-d409-518463902b77"
      },
      "execution_count": 19,
      "outputs": [
        {
          "output_type": "stream",
          "name": "stdout",
          "text": [
            "==================================================\n",
            "CHATBOT RESPONSES\n",
            "==================================================\n",
            "You: hi\n",
            "Bot: hello\n",
            "--------------------------------------------------\n",
            "You: how are you\n",
            "Bot: i am fine thank you\n",
            "--------------------------------------------------\n",
            "You: what is your name\n",
            "Bot: i am a bot\n",
            "--------------------------------------------------\n",
            "You: bye\n",
            "Bot: goodbye\n",
            "--------------------------------------------------\n"
          ]
        }
      ]
    },
    {
      "cell_type": "markdown",
      "source": [
        "## Interactive Chat Session\n",
        "\n",
        "Now you can chat with the bot interactively! Type 'quit' to exit.\n"
      ],
      "metadata": {
        "id": "pp_Y77CUC04e"
      }
    },
    {
      "cell_type": "code",
      "source": [
        "def chat():\n",
        "    \"\"\"\n",
        "    Interactive chatbot session\n",
        "    \"\"\"\n",
        "    print(\"\\n\" + \"=\"*50)\n",
        "    print(\"Simple RNN Chatbot (Type 'quit' to exit)\")\n",
        "    print(\"=\"*50 + \"\\n\")\n",
        "\n",
        "    while True:\n",
        "        user_input = input(\"You: \")\n",
        "\n",
        "        if user_input.lower() in ['quit', 'exit', 'bye']:\n",
        "            print(\"Bot: Goodbye! Thanks for chatting!\")\n",
        "            break\n",
        "\n",
        "        response = generate_response(user_input, model, tokenizer, max_length)\n",
        "        print(f\"Bot: {response}\\n\")\n",
        "\n",
        "# Start chatting\n",
        "chat()\n"
      ],
      "metadata": {
        "colab": {
          "base_uri": "https://localhost:8080/"
        },
        "id": "QXDfmdLHC10c",
        "outputId": "63dde924-3829-4233-e459-55da97672a15"
      },
      "execution_count": 20,
      "outputs": [
        {
          "output_type": "stream",
          "name": "stdout",
          "text": [
            "\n",
            "==================================================\n",
            "Simple RNN Chatbot (Type 'quit' to exit)\n",
            "==================================================\n",
            "\n",
            "You: hi\n",
            "Bot: hello\n",
            "\n",
            "You: hello\n",
            "Bot: hi there\n",
            "\n",
            "You: quit\n",
            "Bot: Goodbye! Thanks for chatting!\n"
          ]
        }
      ]
    },
    {
      "cell_type": "markdown",
      "source": [
        "## Understanding RNN Limitations\n",
        "\n",
        "**Short-Term Memory Issues:**\n",
        "- RNNs struggle with long sequences due to vanishing gradients\n",
        "- They tend to \"forget\" information from earlier in the sequence\n",
        "- LSTM improves this but still has limitations\n",
        "\n",
        "**Why This Matters:**\n",
        "- Simple chatbots work for short exchanges\n",
        "- For complex conversations, use Transformers (like GPT) or advanced architectures\n",
        "- RNNs are great for learning sequential patterns in bounded contexts\n"
      ],
      "metadata": {
        "id": "iZiDhMaQC-jK"
      }
    },
    {
      "cell_type": "code",
      "source": [
        "# Save the trained model\n",
        "model.save('rnn_chatbot_model.h5')\n",
        "\n",
        "# Save tokenizer\n",
        "with open('tokenizer.pickle', 'wb') as f:\n",
        "    pickle.dump(tokenizer, f)\n",
        "\n",
        "# Save max_length\n",
        "with open('max_length.txt', 'w') as f:\n",
        "    f.write(str(max_length))\n",
        "\n",
        "print(\"Model and tokenizer saved successfully!\")\n"
      ],
      "metadata": {
        "colab": {
          "base_uri": "https://localhost:8080/"
        },
        "id": "yKWq2J5qDIlj",
        "outputId": "4f8c3e76-54b2-4043-c148-19a1215706e6"
      },
      "execution_count": 21,
      "outputs": [
        {
          "output_type": "stream",
          "name": "stderr",
          "text": [
            "WARNING:absl:You are saving your model as an HDF5 file via `model.save()` or `keras.saving.save_model(model)`. This file format is considered legacy. We recommend using instead the native Keras format, e.g. `model.save('my_model.keras')` or `keras.saving.save_model(model, 'my_model.keras')`. \n"
          ]
        },
        {
          "output_type": "stream",
          "name": "stdout",
          "text": [
            "Model and tokenizer saved successfully!\n"
          ]
        }
      ]
    }
  ]
}